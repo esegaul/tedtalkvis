{
 "cells": [
  {
   "cell_type": "markdown",
   "metadata": {},
   "source": [
    "# Ted Talk Topic Extraction with NMF"
   ]
  },
  {
   "cell_type": "code",
   "execution_count": 166,
   "metadata": {},
   "outputs": [],
   "source": [
    "import pandas as pd\n",
    "import numpy as np\n",
    "import matplotlib.pyplot as plt\n",
    "import nltk\n",
    "import heapq\n",
    "import heapq\n",
    "import operator\n",
    "from ast import literal_eval\n",
    "from sklearn.feature_extraction.text import TfidfVectorizer\n",
    "from sklearn.decomposition import NMF\n",
    "from sklearn.pipeline import Pipeline"
   ]
  },
  {
   "cell_type": "code",
   "execution_count": 3,
   "metadata": {},
   "outputs": [],
   "source": [
    "transcript_df = pd.read_csv('data/transcripts.csv')\n",
    "main_df = pd.read_csv('data/ted_main.csv', parse_dates=['film_date', 'published_date'],\n",
    "                      converters={'ratings': literal_eval, 'tags': literal_eval, 'related_talks': literal_eval})"
   ]
  },
  {
   "cell_type": "code",
   "execution_count": 4,
   "metadata": {},
   "outputs": [],
   "source": [
    "#nltk.download('stopwords')\n",
    "en_stop = set(nltk.corpus.stopwords.words('english'))"
   ]
  },
  {
   "cell_type": "code",
   "execution_count": 5,
   "metadata": {},
   "outputs": [],
   "source": [
    "# parameters to play with\n",
    "MIN_DF = 0.1\n",
    "MAX_DF = 0.2\n",
    "NUM_TOPICS = 10\n",
    "MORE_STOPWORDS = set(['talk', 'applause', 'laughter', 'yeah', 'oh', 'guy'])"
   ]
  },
  {
   "cell_type": "code",
   "execution_count": 6,
   "metadata": {},
   "outputs": [],
   "source": [
    "min_grid = np.arange(0.1,1.0,0.1)\n",
    "max_grid = np.arange(0.1,1.0,0.1)\n",
    "topics_grid = [5, 7, 9, 11]"
   ]
  },
  {
   "cell_type": "code",
   "execution_count": 7,
   "metadata": {},
   "outputs": [],
   "source": [
    "en_stop = en_stop | MORE_STOPWORDS\n",
    "vectorizer = TfidfVectorizer(stop_words=en_stop,\n",
    "                             use_idf=True,\n",
    "                             ngram_range=(1, 1),\n",
    "                             min_df=MIN_DF,\n",
    "                             max_df=MAX_DF)\n",
    "\n",
    "tfidf = vectorizer.fit_transform(transcript_df['transcript'])"
   ]
  },
  {
   "cell_type": "markdown",
   "metadata": {},
   "source": [
    "# Fit NMF model"
   ]
  },
  {
   "cell_type": "code",
   "execution_count": 8,
   "metadata": {},
   "outputs": [
    {
     "name": "stdout",
     "output_type": "stream",
     "text": [
      "0 ['father', 'god', 'war', 'girl', 'parents']\n",
      "1 ['music', 'sound', 'playing', 'sounds', 'audience']\n",
      "2 ['species', 'animals', 'planet', 'sea', 'animal']\n",
      "3 ['cancer', 'disease', 'medical', 'blood', 'hospital']\n",
      "4 ['africa', 'economic', 'companies', 'economy', 'china']\n",
      "5 ['computer', 'machine', 'internet', 'digital', 'computers']\n",
      "6 ['cities', 'car', 'cars', 'street', 'driving']\n",
      "7 ['universe', 'theory', 'sun', 'planet', 'black']\n",
      "8 ['students', 'education', 'learning', 'language', 'schools']\n",
      "9 ['cells', 'cell', 'blood', 'disease', 'lab']\n"
     ]
    }
   ],
   "source": [
    "nmf = NMF(n_components=NUM_TOPICS,\n",
    "          random_state=42)\n",
    "\n",
    "topics = nmf.fit_transform(tfidf)\n",
    "top_n_words = 5\n",
    "t_words, word_strengths = {}, {}\n",
    "for t_id, t in enumerate(nmf.components_):\n",
    "    t_words[t_id] = [vectorizer.get_feature_names()[i] for i in t.argsort()[:-top_n_words - 1:-1]]\n",
    "    word_strengths[t_id] = t[t.argsort()[:-top_n_words - 1:-1]]\n",
    "for k, v in t_words.items():\n",
    "    print(k,v)"
   ]
  },
  {
   "cell_type": "markdown",
   "metadata": {},
   "source": [
    "# Testing out NMF fit on 5 randomly sampled talks"
   ]
  },
  {
   "cell_type": "code",
   "execution_count": 9,
   "metadata": {
    "scrolled": false
   },
   "outputs": [
    {
     "name": "stdout",
     "output_type": "stream",
     "text": [
      "Predicted most likely topic:  ['universe', 'theory', 'sun', 'planet', 'black']\n",
      "Talk Title: ['How I fell in love with quasars, blazars and our incredible universe']\n",
      "Actual Talk Tags: [list(['NASA', 'TED Fellows', 'astronomy', 'dark matter', 'math', 'physics', 'science', 'telescopes', 'universe'])]\n",
      "----------------------------------------------------\n",
      "Predicted most likely topic:  ['students', 'education', 'learning', 'language', 'schools']\n",
      "Talk Title: ['A teacher growing green in the South Bronx']\n",
      "Actual Talk Tags: [list(['TEDx', 'business', 'education', 'garden', 'green'])]\n",
      "----------------------------------------------------\n",
      "Predicted most likely topic:  ['computer', 'machine', 'internet', 'digital', 'computers']\n",
      "Talk Title: ['1,000 TED Talks in six words']\n",
      "Actual Talk Tags: [list(['TEDx', 'statistics', 'visualizations'])]\n",
      "----------------------------------------------------\n",
      "Predicted most likely topic:  ['computer', 'machine', 'internet', 'digital', 'computers']\n",
      "Talk Title: [\"Governments don't understand cyber warfare. We need hackers\"]\n",
      "Actual Talk Tags: [list(['Internet', 'Surveillance', 'activism', 'communication', 'computers', 'data', 'future', 'government', 'military', 'policy', 'security', 'technology', 'terrorism', 'violence', 'war', 'web'])]\n",
      "----------------------------------------------------\n",
      "Predicted most likely topic:  ['computer', 'machine', 'internet', 'digital', 'computers']\n",
      "Talk Title: ['This computer will grow your food in the future']\n",
      "Actual Talk Tags: [list(['Vaccines', 'agriculture', 'biomechanics', 'biotech', 'botany', 'chemistry', 'climate change', 'collaboration', 'data', 'design', 'ebola', 'ecology', 'education', 'engineering', 'environment', 'food', 'future', 'garden', 'green', 'innovation', 'nature', 'open-source', 'potential', 'science', 'software', 'sustainability', 'technology', 'virus', 'water'])]\n",
      "----------------------------------------------------\n"
     ]
    }
   ],
   "source": [
    "pipe = Pipeline([\n",
    "    ('tfidf', vectorizer),\n",
    "    ('nmf', nmf)\n",
    "])\n",
    "\n",
    "rand_doc_ids = np.random.randint(0,len(transcript_df),5)\n",
    "\n",
    "for doc_id in rand_doc_ids:\n",
    "    t = pipe.transform([transcript_df['transcript'].iloc[doc_id]]) \n",
    "    print('Predicted most likely topic: ', t_words[np.argmax(t)])\n",
    "    talk_data = main_df[main_df.url == transcript_df.iloc[doc_id]['url']]\n",
    "    print('Talk Title:', talk_data.title.values)\n",
    "    print('Actual Talk Tags:', talk_data.tags.values)\n",
    "    print('----------------------------------------------------')"
   ]
  },
  {
   "cell_type": "markdown",
   "metadata": {},
   "source": [
    "# applying topic extraction to every talk"
   ]
  },
  {
   "cell_type": "code",
   "execution_count": 81,
   "metadata": {},
   "outputs": [],
   "source": [
    "def get_topic(transcript):\n",
    "    t = pipe.transform([transcript])\n",
    "    topic = t_words[np.argmax(t)]\n",
    "    return topic\n",
    "\n",
    "def get_topic_id(transcript):\n",
    "    t = pipe.transform([transcript])\n",
    "    return np.argmax(t)"
   ]
  },
  {
   "cell_type": "code",
   "execution_count": 82,
   "metadata": {},
   "outputs": [],
   "source": [
    "transcript_df['topic_pred'] = transcript_df.transcript.map(get_topic)\n",
    "transcript_df['topic_pred_id'] = transcript_df.transcript.map(get_topic_id)"
   ]
  },
  {
   "cell_type": "code",
   "execution_count": 84,
   "metadata": {},
   "outputs": [],
   "source": [
    "merged_df = main_df.merge(transcript_df, on='url')\n",
    "merged_df.drop('transcript', axis=1, inplace=True)"
   ]
  },
  {
   "cell_type": "code",
   "execution_count": 85,
   "metadata": {},
   "outputs": [
    {
     "data": {
      "text/html": [
       "<div>\n",
       "<style scoped>\n",
       "    .dataframe tbody tr th:only-of-type {\n",
       "        vertical-align: middle;\n",
       "    }\n",
       "\n",
       "    .dataframe tbody tr th {\n",
       "        vertical-align: top;\n",
       "    }\n",
       "\n",
       "    .dataframe thead th {\n",
       "        text-align: right;\n",
       "    }\n",
       "</style>\n",
       "<table border=\"1\" class=\"dataframe\">\n",
       "  <thead>\n",
       "    <tr style=\"text-align: right;\">\n",
       "      <th></th>\n",
       "      <th>title</th>\n",
       "      <th>description</th>\n",
       "      <th>topic_pred</th>\n",
       "      <th>topic_pred_id</th>\n",
       "    </tr>\n",
       "  </thead>\n",
       "  <tbody>\n",
       "    <tr>\n",
       "      <td>0</td>\n",
       "      <td>Do schools kill creativity?</td>\n",
       "      <td>Sir Ken Robinson makes an entertaining and pro...</td>\n",
       "      <td>[students, education, learning, language, scho...</td>\n",
       "      <td>8</td>\n",
       "    </tr>\n",
       "    <tr>\n",
       "      <td>1</td>\n",
       "      <td>Averting the climate crisis</td>\n",
       "      <td>With the same humor and humanity he exuded in ...</td>\n",
       "      <td>[cities, car, cars, street, driving]</td>\n",
       "      <td>6</td>\n",
       "    </tr>\n",
       "    <tr>\n",
       "      <td>2</td>\n",
       "      <td>Simplicity sells</td>\n",
       "      <td>New York Times columnist David Pogue takes aim...</td>\n",
       "      <td>[computer, machine, internet, digital, computers]</td>\n",
       "      <td>5</td>\n",
       "    </tr>\n",
       "    <tr>\n",
       "      <td>3</td>\n",
       "      <td>Greening the ghetto</td>\n",
       "      <td>In an emotionally charged talk, MacArthur-winn...</td>\n",
       "      <td>[africa, economic, companies, economy, china]</td>\n",
       "      <td>4</td>\n",
       "    </tr>\n",
       "    <tr>\n",
       "      <td>4</td>\n",
       "      <td>The best stats you've ever seen</td>\n",
       "      <td>You've never seen data presented like this. Wi...</td>\n",
       "      <td>[africa, economic, companies, economy, china]</td>\n",
       "      <td>4</td>\n",
       "    </tr>\n",
       "    <tr>\n",
       "      <td>5</td>\n",
       "      <td>Why we do what we do</td>\n",
       "      <td>Tony Robbins discusses the \"invisible forces\" ...</td>\n",
       "      <td>[computer, machine, internet, digital, computers]</td>\n",
       "      <td>5</td>\n",
       "    </tr>\n",
       "    <tr>\n",
       "      <td>6</td>\n",
       "      <td>Letting go of God</td>\n",
       "      <td>When two young Mormon missionaries knock on Ju...</td>\n",
       "      <td>[father, god, war, girl, parents]</td>\n",
       "      <td>0</td>\n",
       "    </tr>\n",
       "    <tr>\n",
       "      <td>7</td>\n",
       "      <td>Behind the design of Seattle's library</td>\n",
       "      <td>Architect Joshua Prince-Ramus takes the audien...</td>\n",
       "      <td>[computer, machine, internet, digital, computers]</td>\n",
       "      <td>5</td>\n",
       "    </tr>\n",
       "    <tr>\n",
       "      <td>8</td>\n",
       "      <td>Let's teach religion -- all religion -- in sch...</td>\n",
       "      <td>Philosopher Dan Dennett calls for religion -- ...</td>\n",
       "      <td>[father, god, war, girl, parents]</td>\n",
       "      <td>0</td>\n",
       "    </tr>\n",
       "    <tr>\n",
       "      <td>9</td>\n",
       "      <td>A life of purpose</td>\n",
       "      <td>Pastor Rick Warren, author of \"The Purpose-Dri...</td>\n",
       "      <td>[father, god, war, girl, parents]</td>\n",
       "      <td>0</td>\n",
       "    </tr>\n",
       "  </tbody>\n",
       "</table>\n",
       "</div>"
      ],
      "text/plain": [
       "                                               title  \\\n",
       "0                        Do schools kill creativity?   \n",
       "1                        Averting the climate crisis   \n",
       "2                                   Simplicity sells   \n",
       "3                                Greening the ghetto   \n",
       "4                    The best stats you've ever seen   \n",
       "5                               Why we do what we do   \n",
       "6                                  Letting go of God   \n",
       "7             Behind the design of Seattle's library   \n",
       "8  Let's teach religion -- all religion -- in sch...   \n",
       "9                                  A life of purpose   \n",
       "\n",
       "                                         description  \\\n",
       "0  Sir Ken Robinson makes an entertaining and pro...   \n",
       "1  With the same humor and humanity he exuded in ...   \n",
       "2  New York Times columnist David Pogue takes aim...   \n",
       "3  In an emotionally charged talk, MacArthur-winn...   \n",
       "4  You've never seen data presented like this. Wi...   \n",
       "5  Tony Robbins discusses the \"invisible forces\" ...   \n",
       "6  When two young Mormon missionaries knock on Ju...   \n",
       "7  Architect Joshua Prince-Ramus takes the audien...   \n",
       "8  Philosopher Dan Dennett calls for religion -- ...   \n",
       "9  Pastor Rick Warren, author of \"The Purpose-Dri...   \n",
       "\n",
       "                                          topic_pred  topic_pred_id  \n",
       "0  [students, education, learning, language, scho...              8  \n",
       "1               [cities, car, cars, street, driving]              6  \n",
       "2  [computer, machine, internet, digital, computers]              5  \n",
       "3      [africa, economic, companies, economy, china]              4  \n",
       "4      [africa, economic, companies, economy, china]              4  \n",
       "5  [computer, machine, internet, digital, computers]              5  \n",
       "6                  [father, god, war, girl, parents]              0  \n",
       "7  [computer, machine, internet, digital, computers]              5  \n",
       "8                  [father, god, war, girl, parents]              0  \n",
       "9                  [father, god, war, girl, parents]              0  "
      ]
     },
     "execution_count": 85,
     "metadata": {},
     "output_type": "execute_result"
    }
   ],
   "source": [
    "merged_df[['title', 'description', 'topic_pred', 'topic_pred_id']][:10]"
   ]
  },
  {
   "cell_type": "markdown",
   "metadata": {},
   "source": [
    "# Data cleaning"
   ]
  },
  {
   "cell_type": "code",
   "execution_count": 86,
   "metadata": {},
   "outputs": [],
   "source": [
    "merged_df['film_year'] = pd.to_datetime(merged_df.film_date, unit='s').dt.year"
   ]
  },
  {
   "cell_type": "code",
   "execution_count": 87,
   "metadata": {},
   "outputs": [],
   "source": [
    "def get_top_rating(rating):\n",
    "    counts = [r['count'] for r in rating]\n",
    "    return rating[np.argmax(counts)]['name']"
   ]
  },
  {
   "cell_type": "code",
   "execution_count": 88,
   "metadata": {},
   "outputs": [],
   "source": [
    "merged_df['top_rating'] = merged_df.ratings.map(get_top_rating)"
   ]
  },
  {
   "cell_type": "code",
   "execution_count": 99,
   "metadata": {},
   "outputs": [
    {
     "data": {
      "text/html": [
       "<div>\n",
       "<style scoped>\n",
       "    .dataframe tbody tr th:only-of-type {\n",
       "        vertical-align: middle;\n",
       "    }\n",
       "\n",
       "    .dataframe tbody tr th {\n",
       "        vertical-align: top;\n",
       "    }\n",
       "\n",
       "    .dataframe thead th {\n",
       "        text-align: right;\n",
       "    }\n",
       "</style>\n",
       "<table border=\"1\" class=\"dataframe\">\n",
       "  <thead>\n",
       "    <tr style=\"text-align: right;\">\n",
       "      <th></th>\n",
       "      <th>url</th>\n",
       "    </tr>\n",
       "    <tr>\n",
       "      <th>top_rating</th>\n",
       "      <th></th>\n",
       "    </tr>\n",
       "  </thead>\n",
       "  <tbody>\n",
       "    <tr>\n",
       "      <td>Beautiful</td>\n",
       "      <td>142</td>\n",
       "    </tr>\n",
       "    <tr>\n",
       "      <td>Confusing</td>\n",
       "      <td>2</td>\n",
       "    </tr>\n",
       "    <tr>\n",
       "      <td>Courageous</td>\n",
       "      <td>82</td>\n",
       "    </tr>\n",
       "    <tr>\n",
       "      <td>Fascinating</td>\n",
       "      <td>251</td>\n",
       "    </tr>\n",
       "    <tr>\n",
       "      <td>Funny</td>\n",
       "      <td>159</td>\n",
       "    </tr>\n",
       "    <tr>\n",
       "      <td>Informative</td>\n",
       "      <td>711</td>\n",
       "    </tr>\n",
       "    <tr>\n",
       "      <td>Ingenious</td>\n",
       "      <td>101</td>\n",
       "    </tr>\n",
       "    <tr>\n",
       "      <td>Inspiring</td>\n",
       "      <td>851</td>\n",
       "    </tr>\n",
       "    <tr>\n",
       "      <td>Jaw-dropping</td>\n",
       "      <td>49</td>\n",
       "    </tr>\n",
       "    <tr>\n",
       "      <td>Longwinded</td>\n",
       "      <td>8</td>\n",
       "    </tr>\n",
       "    <tr>\n",
       "      <td>OK</td>\n",
       "      <td>6</td>\n",
       "    </tr>\n",
       "    <tr>\n",
       "      <td>Obnoxious</td>\n",
       "      <td>3</td>\n",
       "    </tr>\n",
       "    <tr>\n",
       "      <td>Persuasive</td>\n",
       "      <td>79</td>\n",
       "    </tr>\n",
       "    <tr>\n",
       "      <td>Unconvincing</td>\n",
       "      <td>23</td>\n",
       "    </tr>\n",
       "  </tbody>\n",
       "</table>\n",
       "</div>"
      ],
      "text/plain": [
       "              url\n",
       "top_rating       \n",
       "Beautiful     142\n",
       "Confusing       2\n",
       "Courageous     82\n",
       "Fascinating   251\n",
       "Funny         159\n",
       "Informative   711\n",
       "Ingenious     101\n",
       "Inspiring     851\n",
       "Jaw-dropping   49\n",
       "Longwinded      8\n",
       "OK              6\n",
       "Obnoxious       3\n",
       "Persuasive     79\n",
       "Unconvincing   23"
      ]
     },
     "execution_count": 99,
     "metadata": {},
     "output_type": "execute_result"
    }
   ],
   "source": [
    "merged_df.groupby(['top_rating'])[['url']].count()"
   ]
  },
  {
   "cell_type": "code",
   "execution_count": 100,
   "metadata": {},
   "outputs": [
    {
     "data": {
      "text/html": [
       "<div>\n",
       "<style scoped>\n",
       "    .dataframe tbody tr th:only-of-type {\n",
       "        vertical-align: middle;\n",
       "    }\n",
       "\n",
       "    .dataframe tbody tr th {\n",
       "        vertical-align: top;\n",
       "    }\n",
       "\n",
       "    .dataframe thead th {\n",
       "        text-align: right;\n",
       "    }\n",
       "</style>\n",
       "<table border=\"1\" class=\"dataframe\">\n",
       "  <thead>\n",
       "    <tr style=\"text-align: right;\">\n",
       "      <th></th>\n",
       "      <th>url</th>\n",
       "    </tr>\n",
       "    <tr>\n",
       "      <th>topic_pred_id</th>\n",
       "      <th></th>\n",
       "    </tr>\n",
       "  </thead>\n",
       "  <tbody>\n",
       "    <tr>\n",
       "      <td>0</td>\n",
       "      <td>510</td>\n",
       "    </tr>\n",
       "    <tr>\n",
       "      <td>1</td>\n",
       "      <td>145</td>\n",
       "    </tr>\n",
       "    <tr>\n",
       "      <td>2</td>\n",
       "      <td>240</td>\n",
       "    </tr>\n",
       "    <tr>\n",
       "      <td>3</td>\n",
       "      <td>95</td>\n",
       "    </tr>\n",
       "    <tr>\n",
       "      <td>4</td>\n",
       "      <td>362</td>\n",
       "    </tr>\n",
       "    <tr>\n",
       "      <td>5</td>\n",
       "      <td>518</td>\n",
       "    </tr>\n",
       "    <tr>\n",
       "      <td>6</td>\n",
       "      <td>195</td>\n",
       "    </tr>\n",
       "    <tr>\n",
       "      <td>7</td>\n",
       "      <td>95</td>\n",
       "    </tr>\n",
       "    <tr>\n",
       "      <td>8</td>\n",
       "      <td>200</td>\n",
       "    </tr>\n",
       "    <tr>\n",
       "      <td>9</td>\n",
       "      <td>107</td>\n",
       "    </tr>\n",
       "  </tbody>\n",
       "</table>\n",
       "</div>"
      ],
      "text/plain": [
       "               url\n",
       "topic_pred_id     \n",
       "0              510\n",
       "1              145\n",
       "2              240\n",
       "3               95\n",
       "4              362\n",
       "5              518\n",
       "6              195\n",
       "7               95\n",
       "8              200\n",
       "9              107"
      ]
     },
     "execution_count": 100,
     "metadata": {},
     "output_type": "execute_result"
    }
   ],
   "source": [
    "merged_df.groupby(['topic_pred_id'])[['url']].count()"
   ]
  },
  {
   "cell_type": "code",
   "execution_count": 157,
   "metadata": {},
   "outputs": [],
   "source": [
    "# Emulate this with d3\n",
    "topic_dict = {}\n",
    "for i in range(len(t_words)):\n",
    "    tag_dict = {}\n",
    "    df_filtered = merged_df.loc[merged_df.topic_pred_id == i]\n",
    "    for tag_list in list(df_filtered.tags):\n",
    "        for tag in tag_list:\n",
    "            if tag in tag_dict:\n",
    "                tag_dict[tag] += 1\n",
    "            else:\n",
    "                tag_dict[tag] = 1\n",
    "    top_ten_tags = heapq.nlargest(10, tag_dict.items(), key=operator.itemgetter(1))\n",
    "    topic_dict[i] = top_ten_tags"
   ]
  },
  {
   "cell_type": "code",
   "execution_count": 194,
   "metadata": {
    "scrolled": true
   },
   "outputs": [
    {
     "data": {
      "text/plain": [
       "{0: [('culture', 147),\n",
       "  ('global issues', 110),\n",
       "  ('TEDx', 104),\n",
       "  ('society', 85),\n",
       "  ('entertainment', 81),\n",
       "  ('humanity', 78),\n",
       "  ('social change', 77),\n",
       "  ('identity', 65),\n",
       "  ('storytelling', 64),\n",
       "  ('communication', 60)],\n",
       " 1: [('music', 84),\n",
       "  ('entertainment', 74),\n",
       "  ('live music', 47),\n",
       "  ('performance', 46),\n",
       "  ('technology', 36),\n",
       "  ('culture', 32),\n",
       "  ('creativity', 27),\n",
       "  ('art', 26),\n",
       "  ('design', 18),\n",
       "  ('TEDx', 18)],\n",
       " 2: [('science', 131),\n",
       "  ('environment', 80),\n",
       "  ('animals', 74),\n",
       "  ('technology', 64),\n",
       "  ('biology', 62),\n",
       "  ('oceans', 55),\n",
       "  ('nature', 53),\n",
       "  ('exploration', 43),\n",
       "  ('biodiversity', 43),\n",
       "  ('global issues', 42)],\n",
       " 3: [('health', 50),\n",
       "  ('science', 49),\n",
       "  ('medicine', 43),\n",
       "  ('health care', 39),\n",
       "  ('cancer', 35),\n",
       "  ('technology', 28),\n",
       "  ('medical research', 28),\n",
       "  ('disease', 19),\n",
       "  ('culture', 17),\n",
       "  ('illness', 17)],\n",
       " 4: [('global issues', 190),\n",
       "  ('business', 118),\n",
       "  ('economics', 90),\n",
       "  ('technology', 71),\n",
       "  ('politics', 61),\n",
       "  ('culture', 57),\n",
       "  ('TEDx', 57),\n",
       "  ('Africa', 53),\n",
       "  ('social change', 50),\n",
       "  ('society', 48)],\n",
       " 5: [('technology', 274),\n",
       "  ('design', 162),\n",
       "  ('culture', 94),\n",
       "  ('science', 94),\n",
       "  ('TEDx', 86),\n",
       "  ('art', 76),\n",
       "  ('business', 75),\n",
       "  ('computers', 74),\n",
       "  ('creativity', 68),\n",
       "  ('entertainment', 67)],\n",
       " 6: [('technology', 79),\n",
       "  ('design', 79),\n",
       "  ('cities', 72),\n",
       "  ('culture', 39),\n",
       "  ('business', 38),\n",
       "  ('infrastructure', 36),\n",
       "  ('architecture', 34),\n",
       "  ('TEDx', 32),\n",
       "  ('global issues', 31),\n",
       "  ('environment', 28)],\n",
       " 7: [('science', 59),\n",
       "  ('technology', 34),\n",
       "  ('universe', 32),\n",
       "  ('physics', 31),\n",
       "  ('astronomy', 30),\n",
       "  ('space', 24),\n",
       "  ('exploration', 17),\n",
       "  ('telescopes', 16),\n",
       "  ('entertainment', 13),\n",
       "  ('design', 12)],\n",
       " 8: [('education', 86),\n",
       "  ('culture', 55),\n",
       "  ('children', 45),\n",
       "  ('science', 38),\n",
       "  ('TEDx', 37),\n",
       "  ('global issues', 36),\n",
       "  ('teaching', 34),\n",
       "  ('technology', 32),\n",
       "  ('social change', 28),\n",
       "  ('business', 26)],\n",
       " 9: [('science', 76),\n",
       "  ('biology', 52),\n",
       "  ('technology', 51),\n",
       "  ('health', 32),\n",
       "  ('medicine', 32),\n",
       "  ('biotech', 30),\n",
       "  ('innovation', 30),\n",
       "  ('medical research', 30),\n",
       "  ('brain', 24),\n",
       "  ('future', 22)]}"
      ]
     },
     "execution_count": 194,
     "metadata": {},
     "output_type": "execute_result"
    }
   ],
   "source": [
    "topic_dict"
   ]
  },
  {
   "cell_type": "code",
   "execution_count": 94,
   "metadata": {},
   "outputs": [
    {
     "data": {
      "text/plain": [
       "{0: ['father', 'god', 'war', 'girl', 'parents'],\n",
       " 1: ['music', 'sound', 'playing', 'sounds', 'audience'],\n",
       " 2: ['species', 'animals', 'planet', 'sea', 'animal'],\n",
       " 3: ['cancer', 'disease', 'medical', 'blood', 'hospital'],\n",
       " 4: ['africa', 'economic', 'companies', 'economy', 'china'],\n",
       " 5: ['computer', 'machine', 'internet', 'digital', 'computers'],\n",
       " 6: ['cities', 'car', 'cars', 'street', 'driving'],\n",
       " 7: ['universe', 'theory', 'sun', 'planet', 'black'],\n",
       " 8: ['students', 'education', 'learning', 'language', 'schools'],\n",
       " 9: ['cells', 'cell', 'blood', 'disease', 'lab']}"
      ]
     },
     "execution_count": 94,
     "metadata": {},
     "output_type": "execute_result"
    }
   ],
   "source": [
    "t_words"
   ]
  },
  {
   "cell_type": "code",
   "execution_count": 195,
   "metadata": {},
   "outputs": [
    {
     "data": {
      "text/html": [
       "<div>\n",
       "<style scoped>\n",
       "    .dataframe tbody tr th:only-of-type {\n",
       "        vertical-align: middle;\n",
       "    }\n",
       "\n",
       "    .dataframe tbody tr th {\n",
       "        vertical-align: top;\n",
       "    }\n",
       "\n",
       "    .dataframe thead th {\n",
       "        text-align: right;\n",
       "    }\n",
       "</style>\n",
       "<table border=\"1\" class=\"dataframe\">\n",
       "  <thead>\n",
       "    <tr style=\"text-align: right;\">\n",
       "      <th></th>\n",
       "      <th>tag</th>\n",
       "      <th>count</th>\n",
       "    </tr>\n",
       "  </thead>\n",
       "  <tbody>\n",
       "    <tr>\n",
       "      <td>0</td>\n",
       "      <td>culture</td>\n",
       "      <td>147</td>\n",
       "    </tr>\n",
       "    <tr>\n",
       "      <td>1</td>\n",
       "      <td>global issues</td>\n",
       "      <td>110</td>\n",
       "    </tr>\n",
       "    <tr>\n",
       "      <td>2</td>\n",
       "      <td>TEDx</td>\n",
       "      <td>104</td>\n",
       "    </tr>\n",
       "    <tr>\n",
       "      <td>3</td>\n",
       "      <td>society</td>\n",
       "      <td>85</td>\n",
       "    </tr>\n",
       "    <tr>\n",
       "      <td>4</td>\n",
       "      <td>entertainment</td>\n",
       "      <td>81</td>\n",
       "    </tr>\n",
       "    <tr>\n",
       "      <td>5</td>\n",
       "      <td>humanity</td>\n",
       "      <td>78</td>\n",
       "    </tr>\n",
       "    <tr>\n",
       "      <td>6</td>\n",
       "      <td>social change</td>\n",
       "      <td>77</td>\n",
       "    </tr>\n",
       "    <tr>\n",
       "      <td>7</td>\n",
       "      <td>identity</td>\n",
       "      <td>65</td>\n",
       "    </tr>\n",
       "    <tr>\n",
       "      <td>8</td>\n",
       "      <td>storytelling</td>\n",
       "      <td>64</td>\n",
       "    </tr>\n",
       "    <tr>\n",
       "      <td>9</td>\n",
       "      <td>communication</td>\n",
       "      <td>60</td>\n",
       "    </tr>\n",
       "  </tbody>\n",
       "</table>\n",
       "</div>"
      ],
      "text/plain": [
       "             tag  count\n",
       "0        culture    147\n",
       "1  global issues    110\n",
       "2           TEDx    104\n",
       "3        society     85\n",
       "4  entertainment     81\n",
       "5       humanity     78\n",
       "6  social change     77\n",
       "7       identity     65\n",
       "8   storytelling     64\n",
       "9  communication     60"
      ]
     },
     "execution_count": 195,
     "metadata": {},
     "output_type": "execute_result"
    }
   ],
   "source": [
    "demo_topic_tag_df"
   ]
  },
  {
   "cell_type": "code",
   "execution_count": 193,
   "metadata": {},
   "outputs": [],
   "source": [
    "demo_topic_tag_df = pd.DataFrame(topic_dict[0])\n",
    "demo_topic_tag_df.columns = ['tag', 'count']\n",
    "demo_topic_tag_df.to_csv('data/demo_topic_tag.csv')"
   ]
  },
  {
   "cell_type": "code",
   "execution_count": 167,
   "metadata": {},
   "outputs": [],
   "source": [
    "merged_df.to_csv('data/labelled_data.csv')"
   ]
  }
 ],
 "metadata": {
  "kernelspec": {
   "display_name": "Python 3",
   "language": "python",
   "name": "python3"
  },
  "language_info": {
   "codemirror_mode": {
    "name": "ipython",
    "version": 3
   },
   "file_extension": ".py",
   "mimetype": "text/x-python",
   "name": "python",
   "nbconvert_exporter": "python",
   "pygments_lexer": "ipython3",
   "version": "3.6.9"
  },
  "latex_envs": {
   "LaTeX_envs_menu_present": true,
   "autoclose": false,
   "autocomplete": true,
   "bibliofile": "biblio.bib",
   "cite_by": "apalike",
   "current_citInitial": 1,
   "eqLabelWithNumbers": true,
   "eqNumInitial": 1,
   "hotkeys": {
    "equation": "Ctrl-E",
    "itemize": "Ctrl-I"
   },
   "labels_anchors": false,
   "latex_user_defs": false,
   "report_style_numbering": false,
   "user_envs_cfg": false
  }
 },
 "nbformat": 4,
 "nbformat_minor": 2
}
