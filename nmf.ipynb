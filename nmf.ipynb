{
 "cells": [
  {
   "cell_type": "markdown",
   "metadata": {},
   "source": [
    "# Ted Talk Topic Extraction with NMF"
   ]
  },
  {
   "cell_type": "code",
   "execution_count": 87,
   "metadata": {},
   "outputs": [],
   "source": [
    "import pandas as pd\n",
    "import numpy as np\n",
    "import matplotlib.pyplot as plt\n",
    "import nltk\n",
    "from ast import literal_eval\n",
    "from sklearn.feature_extraction.text import TfidfVectorizer\n",
    "from sklearn.decomposition import NMF\n",
    "from sklearn.pipeline import Pipeline"
   ]
  },
  {
   "cell_type": "code",
   "execution_count": 90,
   "metadata": {},
   "outputs": [],
   "source": [
    "transcript_df = pd.read_csv('data/transcripts.csv')\n",
    "main_df = pd.read_csv('data/ted_main.csv', parse_dates=['film_date', 'published_date'],\n",
    "                      converters={'ratings': literal_eval, 'tags': literal_eval, 'related_talks': literal_eval})"
   ]
  },
  {
   "cell_type": "code",
   "execution_count": 96,
   "metadata": {},
   "outputs": [],
   "source": [
    "#nltk.download('stopwords')\n",
    "en_stop = set(nltk.corpus.stopwords.words('english'))"
   ]
  },
  {
   "cell_type": "code",
   "execution_count": 92,
   "metadata": {},
   "outputs": [],
   "source": [
    "# parameters to play with\n",
    "MIN_DF = 0.1\n",
    "MAX_DF = 0.2\n",
    "NUM_TOPICS = 10\n",
    "MORE_STOPWORDS = set(['talk', 'applause', 'laughter', 'yeah', 'oh', 'guy'])"
   ]
  },
  {
   "cell_type": "code",
   "execution_count": 93,
   "metadata": {},
   "outputs": [],
   "source": [
    "min_grid = np.arange(0.1,1.0,0.1)\n",
    "max_grid = np.arange(0.1,1.0,0.1)\n",
    "topics_grid = [5, 7, 9, 11]"
   ]
  },
  {
   "cell_type": "code",
   "execution_count": 94,
   "metadata": {},
   "outputs": [],
   "source": [
    "en_stop = en_stop | MORE_STOPWORDS\n",
    "vectorizer = TfidfVectorizer(stop_words=en_stop,\n",
    "                             use_idf=True,\n",
    "                             ngram_range=(1, 1),\n",
    "                             min_df=MIN_DF,\n",
    "                             max_df=MAX_DF)\n",
    "\n",
    "tfidf = vectorizer.fit_transform(transcript_df['transcript'])"
   ]
  },
  {
   "cell_type": "markdown",
   "metadata": {},
   "source": [
    "# Fit NMF model"
   ]
  },
  {
   "cell_type": "code",
   "execution_count": 95,
   "metadata": {},
   "outputs": [
    {
     "name": "stdout",
     "output_type": "stream",
     "text": [
      "0 ['father', 'god', 'war', 'girl', 'parents']\n",
      "1 ['music', 'sound', 'playing', 'sounds', 'audience']\n",
      "2 ['species', 'animals', 'planet', 'sea', 'animal']\n",
      "3 ['cancer', 'disease', 'medical', 'blood', 'hospital']\n",
      "4 ['africa', 'economic', 'companies', 'economy', 'china']\n",
      "5 ['computer', 'machine', 'internet', 'digital', 'computers']\n",
      "6 ['cities', 'car', 'cars', 'street', 'driving']\n",
      "7 ['universe', 'theory', 'sun', 'planet', 'black']\n",
      "8 ['students', 'education', 'learning', 'language', 'schools']\n",
      "9 ['cells', 'cell', 'blood', 'disease', 'lab']\n"
     ]
    }
   ],
   "source": [
    "nmf = NMF(n_components=NUM_TOPICS,\n",
    "          random_state=42)\n",
    "\n",
    "topics = nmf.fit_transform(tfidf)\n",
    "top_n_words = 5\n",
    "t_words, word_strengths = {}, {}\n",
    "for t_id, t in enumerate(nmf.components_):\n",
    "    t_words[t_id] = [vectorizer.get_feature_names()[i] for i in t.argsort()[:-top_n_words - 1:-1]]\n",
    "    word_strengths[t_id] = t[t.argsort()[:-top_n_words - 1:-1]]\n",
    "for k, v in t_words.items():\n",
    "    print(k,v)"
   ]
  },
  {
   "cell_type": "markdown",
   "metadata": {},
   "source": [
    "# Testing out NMF fit on 5 randomly sampled talks"
   ]
  },
  {
   "cell_type": "code",
   "execution_count": 97,
   "metadata": {
    "scrolled": false
   },
   "outputs": [
    {
     "name": "stdout",
     "output_type": "stream",
     "text": [
      "Predicted most likely topic:  ['computer', 'machine', 'internet', 'digital', 'computers']\n",
      "Talk Title: ['Meet Rezero, the dancing ballbot']\n",
      "Actual Talk Tags: [list(['creativity', 'design', 'engineering', 'robots', 'technology'])]\n",
      "----------------------------------------------------\n",
      "Predicted most likely topic:  ['father', 'god', 'war', 'girl', 'parents']\n",
      "Talk Title: ['Military robots and the future of war']\n",
      "Actual Talk Tags: [list(['design', 'drones', 'future', 'global issues', 'robots', 'technology', 'violence', 'war'])]\n",
      "----------------------------------------------------\n",
      "Predicted most likely topic:  ['universe', 'theory', 'sun', 'planet', 'black']\n",
      "Talk Title: ['How to air-condition outdoor spaces']\n",
      "Actual Talk Tags: [list(['TEDx', 'alternative energy', 'architecture', 'design', 'ecology', 'energy', 'engineering', 'entertainment', 'environment', 'global issues', 'industrial design', 'infrastructure', 'innovation', 'invention', 'public spaces', 'science', 'solar energy', 'sports', 'sustainability', 'weather'])]\n",
      "----------------------------------------------------\n",
      "Predicted most likely topic:  ['cells', 'cell', 'blood', 'disease', 'lab']\n",
      "Talk Title: ['Planning for the end of oil']\n",
      "Actual Talk Tags: [list(['alternative energy', 'energy', 'exploration', 'green', 'science', 'technology'])]\n",
      "----------------------------------------------------\n",
      "Predicted most likely topic:  ['students', 'education', 'learning', 'language', 'schools']\n",
      "Talk Title: ['Teach girls bravery, not perfection']\n",
      "Actual Talk Tags: [list(['children', 'code', 'computers', 'education', 'future', 'inequality', 'innovation', 'motivation', 'personal growth', 'potential', 'programming', 'social change', 'software', 'teaching', 'women'])]\n",
      "----------------------------------------------------\n"
     ]
    }
   ],
   "source": [
    "pipe = Pipeline([\n",
    "    ('tfidf', vectorizer),\n",
    "    ('nmf', nmf)\n",
    "])\n",
    "\n",
    "rand_doc_ids = np.random.randint(0,len(transcript_df),5)\n",
    "\n",
    "for doc_id in rand_doc_ids:\n",
    "    t = pipe.transform([transcript_df['transcript'].iloc[doc_id]]) \n",
    "    print('Predicted most likely topic: ', t_words[np.argmax(t)])\n",
    "    talk_data = main_df[main_df.url == transcript_df.iloc[doc_id]['url']]\n",
    "    print('Talk Title:', talk_data.title.values)\n",
    "    print('Actual Talk Tags:', talk_data.tags.values)\n",
    "    print('----------------------------------------------------')"
   ]
  },
  {
   "cell_type": "markdown",
   "metadata": {},
   "source": [
    "# applying topic extraction to every talk"
   ]
  },
  {
   "cell_type": "code",
   "execution_count": 98,
   "metadata": {},
   "outputs": [],
   "source": [
    "def get_topic(transcript):\n",
    "    t = pipe.transform([transcript])\n",
    "    topic = t_words[np.argmax(t)]\n",
    "    return topic"
   ]
  },
  {
   "cell_type": "code",
   "execution_count": 99,
   "metadata": {},
   "outputs": [],
   "source": [
    "transcript_df['topic_pred'] = transcript_df.transcript.map(get_topic)"
   ]
  },
  {
   "cell_type": "code",
   "execution_count": 107,
   "metadata": {},
   "outputs": [],
   "source": [
    "merged_df = main_df.merge(transcript_df, on='url')\n",
    "merged_df.drop('transcript', axis=1, inplace=True)"
   ]
  },
  {
   "cell_type": "code",
   "execution_count": 112,
   "metadata": {},
   "outputs": [
    {
     "data": {
      "text/html": [
       "<div>\n",
       "<style scoped>\n",
       "    .dataframe tbody tr th:only-of-type {\n",
       "        vertical-align: middle;\n",
       "    }\n",
       "\n",
       "    .dataframe tbody tr th {\n",
       "        vertical-align: top;\n",
       "    }\n",
       "\n",
       "    .dataframe thead th {\n",
       "        text-align: right;\n",
       "    }\n",
       "</style>\n",
       "<table border=\"1\" class=\"dataframe\">\n",
       "  <thead>\n",
       "    <tr style=\"text-align: right;\">\n",
       "      <th></th>\n",
       "      <th>title</th>\n",
       "      <th>description</th>\n",
       "      <th>topic_pred</th>\n",
       "    </tr>\n",
       "  </thead>\n",
       "  <tbody>\n",
       "    <tr>\n",
       "      <td>0</td>\n",
       "      <td>Do schools kill creativity?</td>\n",
       "      <td>Sir Ken Robinson makes an entertaining and pro...</td>\n",
       "      <td>[students, education, learning, language, scho...</td>\n",
       "    </tr>\n",
       "    <tr>\n",
       "      <td>1</td>\n",
       "      <td>Averting the climate crisis</td>\n",
       "      <td>With the same humor and humanity he exuded in ...</td>\n",
       "      <td>[cities, car, cars, street, driving]</td>\n",
       "    </tr>\n",
       "    <tr>\n",
       "      <td>2</td>\n",
       "      <td>Simplicity sells</td>\n",
       "      <td>New York Times columnist David Pogue takes aim...</td>\n",
       "      <td>[computer, machine, internet, digital, computers]</td>\n",
       "    </tr>\n",
       "    <tr>\n",
       "      <td>3</td>\n",
       "      <td>Greening the ghetto</td>\n",
       "      <td>In an emotionally charged talk, MacArthur-winn...</td>\n",
       "      <td>[africa, economic, companies, economy, china]</td>\n",
       "    </tr>\n",
       "    <tr>\n",
       "      <td>4</td>\n",
       "      <td>The best stats you've ever seen</td>\n",
       "      <td>You've never seen data presented like this. Wi...</td>\n",
       "      <td>[africa, economic, companies, economy, china]</td>\n",
       "    </tr>\n",
       "    <tr>\n",
       "      <td>5</td>\n",
       "      <td>Why we do what we do</td>\n",
       "      <td>Tony Robbins discusses the \"invisible forces\" ...</td>\n",
       "      <td>[computer, machine, internet, digital, computers]</td>\n",
       "    </tr>\n",
       "    <tr>\n",
       "      <td>6</td>\n",
       "      <td>Letting go of God</td>\n",
       "      <td>When two young Mormon missionaries knock on Ju...</td>\n",
       "      <td>[father, god, war, girl, parents]</td>\n",
       "    </tr>\n",
       "    <tr>\n",
       "      <td>7</td>\n",
       "      <td>Behind the design of Seattle's library</td>\n",
       "      <td>Architect Joshua Prince-Ramus takes the audien...</td>\n",
       "      <td>[computer, machine, internet, digital, computers]</td>\n",
       "    </tr>\n",
       "    <tr>\n",
       "      <td>8</td>\n",
       "      <td>Let's teach religion -- all religion -- in sch...</td>\n",
       "      <td>Philosopher Dan Dennett calls for religion -- ...</td>\n",
       "      <td>[father, god, war, girl, parents]</td>\n",
       "    </tr>\n",
       "    <tr>\n",
       "      <td>9</td>\n",
       "      <td>A life of purpose</td>\n",
       "      <td>Pastor Rick Warren, author of \"The Purpose-Dri...</td>\n",
       "      <td>[father, god, war, girl, parents]</td>\n",
       "    </tr>\n",
       "  </tbody>\n",
       "</table>\n",
       "</div>"
      ],
      "text/plain": [
       "                                               title  \\\n",
       "0                        Do schools kill creativity?   \n",
       "1                        Averting the climate crisis   \n",
       "2                                   Simplicity sells   \n",
       "3                                Greening the ghetto   \n",
       "4                    The best stats you've ever seen   \n",
       "5                               Why we do what we do   \n",
       "6                                  Letting go of God   \n",
       "7             Behind the design of Seattle's library   \n",
       "8  Let's teach religion -- all religion -- in sch...   \n",
       "9                                  A life of purpose   \n",
       "\n",
       "                                         description  \\\n",
       "0  Sir Ken Robinson makes an entertaining and pro...   \n",
       "1  With the same humor and humanity he exuded in ...   \n",
       "2  New York Times columnist David Pogue takes aim...   \n",
       "3  In an emotionally charged talk, MacArthur-winn...   \n",
       "4  You've never seen data presented like this. Wi...   \n",
       "5  Tony Robbins discusses the \"invisible forces\" ...   \n",
       "6  When two young Mormon missionaries knock on Ju...   \n",
       "7  Architect Joshua Prince-Ramus takes the audien...   \n",
       "8  Philosopher Dan Dennett calls for religion -- ...   \n",
       "9  Pastor Rick Warren, author of \"The Purpose-Dri...   \n",
       "\n",
       "                                          topic_pred  \n",
       "0  [students, education, learning, language, scho...  \n",
       "1               [cities, car, cars, street, driving]  \n",
       "2  [computer, machine, internet, digital, computers]  \n",
       "3      [africa, economic, companies, economy, china]  \n",
       "4      [africa, economic, companies, economy, china]  \n",
       "5  [computer, machine, internet, digital, computers]  \n",
       "6                  [father, god, war, girl, parents]  \n",
       "7  [computer, machine, internet, digital, computers]  \n",
       "8                  [father, god, war, girl, parents]  \n",
       "9                  [father, god, war, girl, parents]  "
      ]
     },
     "execution_count": 112,
     "metadata": {},
     "output_type": "execute_result"
    }
   ],
   "source": [
    "merged_df[['title', 'description', 'topic_pred']][:10]"
   ]
  },
  {
   "cell_type": "code",
   "execution_count": 113,
   "metadata": {},
   "outputs": [],
   "source": [
    "merged_df.to_csv('labelled_data.csv')"
   ]
  }
 ],
 "metadata": {
  "kernelspec": {
   "display_name": "Python 3",
   "language": "python",
   "name": "python3"
  },
  "language_info": {
   "codemirror_mode": {
    "name": "ipython",
    "version": 3
   },
   "file_extension": ".py",
   "mimetype": "text/x-python",
   "name": "python",
   "nbconvert_exporter": "python",
   "pygments_lexer": "ipython3",
   "version": "3.6.9"
  },
  "latex_envs": {
   "LaTeX_envs_menu_present": true,
   "autoclose": false,
   "autocomplete": true,
   "bibliofile": "biblio.bib",
   "cite_by": "apalike",
   "current_citInitial": 1,
   "eqLabelWithNumbers": true,
   "eqNumInitial": 1,
   "hotkeys": {
    "equation": "Ctrl-E",
    "itemize": "Ctrl-I"
   },
   "labels_anchors": false,
   "latex_user_defs": false,
   "report_style_numbering": false,
   "user_envs_cfg": false
  }
 },
 "nbformat": 4,
 "nbformat_minor": 2
}
